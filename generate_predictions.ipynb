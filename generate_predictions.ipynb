{
 "cells": [
  {
   "cell_type": "code",
   "execution_count": 2,
   "metadata": {},
   "outputs": [],
   "source": [
    "import pandas as pd\n",
    "import json\n",
    "from sklearn.model_selection import train_test_split\n",
    "from sklearn.neighbors import KNeighborsClassifier\n",
    "from sklearn.preprocessing import OneHotEncoder\n",
    "from sklearn.compose import ColumnTransformer\n",
    "from sklearn.metrics import accuracy_score"
   ]
  },
  {
   "cell_type": "code",
   "execution_count": 8,
   "metadata": {},
   "outputs": [
    {
     "name": "stdout",
     "output_type": "stream",
     "text": [
      "                           _id     item_name  total_price\n",
      "0     664f516134a7bc16982791dd   hyperpotion           10\n",
      "1     664f516134a7bc16982791de    Moon Stone          500\n",
      "2     664f516134a7bc16982791df     Awakening           30\n",
      "3     664f516134a7bc16982791df   Expert Belt           30\n",
      "4     664f516134a7bc16982791e0  Hyper Potion          525\n",
      "...                        ...           ...          ...\n",
      "1990  664f516134a7bc16982795c3   Water Stone          150\n",
      "1991  664f516134a7bc16982795c3   Adamant Orb          150\n",
      "1992  664f516134a7bc16982795c4     greatball           65\n",
      "1993  664f516134a7bc16982795c4   hyperpotion           65\n",
      "1994  664f516134a7bc16982795c4   Water Stone           65\n",
      "\n",
      "[1995 rows x 3 columns]\n"
     ]
    }
   ],
   "source": [
    "# Load the dataset\n",
    "with open('orders.json') as f:\n",
    "    data = json.load(f)\n",
    "\n",
    "# Flatten the data\n",
    "flattened_data = []\n",
    "for record in data:\n",
    "    record_id = record[\"_id\"][\"$oid\"]\n",
    "    total_price = record[\"total_price\"]\n",
    "    for item in record[\"items\"]:\n",
    "        flattened_data.append({\n",
    "            \"_id\": record_id,\n",
    "            \"item_name\": item[\"item_name\"],\n",
    "            \"total_price\": total_price\n",
    "        })\n",
    "\n",
    "# Convert to DataFrame\n",
    "df = pd.DataFrame(flattened_data)\n",
    "\n",
    "# Display the DataFrame\n",
    "print(df)"
   ]
  },
  {
   "cell_type": "code",
   "execution_count": null,
   "metadata": {},
   "outputs": [],
   "source": []
  }
 ],
 "metadata": {
  "kernelspec": {
   "display_name": "Python 3",
   "language": "python",
   "name": "python3"
  },
  "language_info": {
   "codemirror_mode": {
    "name": "ipython",
    "version": 3
   },
   "file_extension": ".py",
   "mimetype": "text/x-python",
   "name": "python",
   "nbconvert_exporter": "python",
   "pygments_lexer": "ipython3",
   "version": "3.12.3"
  }
 },
 "nbformat": 4,
 "nbformat_minor": 2
}
