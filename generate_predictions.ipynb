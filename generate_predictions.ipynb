{
 "cells": [
  {
   "cell_type": "code",
   "execution_count": 2,
   "metadata": {},
   "outputs": [],
   "source": [
    "import pandas as pd\n",
    "import json\n",
    "from sklearn.model_selection import train_test_split\n",
    "from sklearn.neighbors import KNeighborsClassifier\n",
    "from sklearn.preprocessing import OneHotEncoder\n",
    "from sklearn.compose import ColumnTransformer\n",
    "from sklearn.metrics import accuracy_score"
   ]
  },
  {
   "cell_type": "code",
   "execution_count": 11,
   "metadata": {},
   "outputs": [
    {
     "name": "stdout",
     "output_type": "stream",
     "text": [
      "                                      _id  \\\n",
      "0    {'$oid': '664f7b7a34a7bc0d3cb6d1cf'}   \n",
      "1    {'$oid': '664f7b7a34a7bc0d3cb6d1d0'}   \n",
      "2    {'$oid': '664f7b7a34a7bc0d3cb6d1d1'}   \n",
      "3    {'$oid': '664f7b7a34a7bc0d3cb6d1d2'}   \n",
      "4    {'$oid': '664f7b7a34a7bc0d3cb6d1d3'}   \n",
      "..                                    ...   \n",
      "995  {'$oid': '664f7b7a34a7bc0d3cb6d5b2'}   \n",
      "996  {'$oid': '664f7b7a34a7bc0d3cb6d5b3'}   \n",
      "997  {'$oid': '664f7b7a34a7bc0d3cb6d5b4'}   \n",
      "998  {'$oid': '664f7b7a34a7bc0d3cb6d5b5'}   \n",
      "999  {'$oid': '664f7b7a34a7bc0d3cb6d5b6'}   \n",
      "\n",
      "                                             cartItems  \n",
      "0    [{'_id': '664f7b7a34a7bc0d3cb6d1b7', 'itemName...  \n",
      "1    [{'_id': '664f7b7a34a7bc0d3cb6d1cb', 'itemName...  \n",
      "2    [{'_id': '664f7b7a34a7bc0d3cb6d1c0', 'itemName...  \n",
      "3    [{'_id': '664f7b7a34a7bc0d3cb6d1ca', 'itemName...  \n",
      "4    [{'_id': '664f7b7a34a7bc0d3cb6d1ca', 'itemName...  \n",
      "..                                                 ...  \n",
      "995  [{'_id': '664f7b7a34a7bc0d3cb6d1c0', 'itemName...  \n",
      "996  [{'_id': '664f7b7a34a7bc0d3cb6d1b5', 'itemName...  \n",
      "997  [{'_id': '664f7b7a34a7bc0d3cb6d1c7', 'itemName...  \n",
      "998  [{'_id': '664f7b7a34a7bc0d3cb6d1bf', 'itemName...  \n",
      "999  [{'_id': '664f7b7a34a7bc0d3cb6d1ca', 'itemName...  \n",
      "\n",
      "[1000 rows x 2 columns]\n"
     ]
    }
   ],
   "source": [
    "# Load the dataset\n",
    "with open('orders.json') as f:\n",
    "    data = json.load(f)\n",
    "\n",
    "# Flatten the data\n",
    "flattened_data = []\n",
    "for record in data:\n",
    "    record_id = record[\"_id\"][\"$oid\"]\n",
    "    for item in record[\"cartItems\"]:\n",
    "        flattened_data.append({\n",
    "            \"_id\": record_id,\n",
    "            \"itemName\": item[\"itemName\"],\n",
    "        })\n",
    "\n",
    "# Convert to DataFrame\n",
    "df = pd.DataFrame(data)\n",
    "\n",
    "# Display the DataFrame\n",
    "print(df)"
   ]
  },
  {
   "cell_type": "code",
   "execution_count": null,
   "metadata": {},
   "outputs": [],
   "source": []
  }
 ],
 "metadata": {
  "kernelspec": {
   "display_name": "Python 3",
   "language": "python",
   "name": "python3"
  },
  "language_info": {
   "codemirror_mode": {
    "name": "ipython",
    "version": 3
   },
   "file_extension": ".py",
   "mimetype": "text/x-python",
   "name": "python",
   "nbconvert_exporter": "python",
   "pygments_lexer": "ipython3",
   "version": "3.12.3"
  }
 },
 "nbformat": 4,
 "nbformat_minor": 2
}
